{
  "nbformat": 4,
  "nbformat_minor": 0,
  "metadata": {
    "colab": {
      "provenance": [],
      "collapsed_sections": [
        "emAytkrPRNA-"
      ],
      "authorship_tag": "ABX9TyNnOsyY2F98rUVdwWasDKLa",
      "include_colab_link": true
    },
    "kernelspec": {
      "name": "python3",
      "display_name": "Python 3"
    },
    "language_info": {
      "name": "python"
    }
  },
  "cells": [
    {
      "cell_type": "markdown",
      "metadata": {
        "id": "view-in-github",
        "colab_type": "text"
      },
      "source": [
        "<a href=\"https://colab.research.google.com/github/cybfr/notebooks/blob/main/Suites_1.ipynb\" target=\"_parent\"><img src=\"https://colab.research.google.com/assets/colab-badge.svg\" alt=\"Open In Colab\"/></a>"
      ]
    },
    {
      "cell_type": "markdown",
      "source": [
        "# Les suites numériques avec python\n",
        "\n",
        "  >**Python** (prononcé /pi.tɔ̃/) est un langage de programmation interprété, multiparadigme et multiplateformes. Il favorise la programmation impérative structurée, fonctionnelle et orientée objet. Il est doté d'un typage dynamique fort, d'une gestion automatique de la mémoire par ramasse-miettes et d'un système de gestion d'exceptions. [[wikipédia](https://fr.wikipedia.org/wiki/Python_(langage))]\n",
        "\n",
        "Le langage **Python** a été crée au début des années 1990 par le programmeur néerlandais **Guido von Rossum** et nommé en référence au show télévisé britannique *Monty Python's Flying Circus*.\n",
        "\n",
        "C'est le language choisi par l'éducation nationale pour étudier l'algorithmique au lycée."
      ],
      "metadata": {
        "id": "emAytkrPRNA-"
      }
    },
    {
      "cell_type": "markdown",
      "source": [
        "#### Définition : En informatique, une liste est une collection **ordonnée** d'éléments séparés par des virgules et mis entre crochet.\n",
        "\n",
        "#### Exemples\n",
        "- `[0,1,2,3,4,5]` est une liste de 6 entiers, différente de `[1,0,2,3,4,5]`.\n",
        "- `['As','Roi','Dame']` est une liste de 3 mots (en informatique des chaines de caractères).\n",
        "\n",
        "On peut ajouter des éléments à une liste avec l'instruction `append()` :\n"
      ],
      "metadata": {
        "id": "ke5pP3NtTFTA"
      }
    },
    {
      "cell_type": "code",
      "source": [
        "L=['As','Roi','Dame']\n",
        "L.append('valet')\n",
        "print(L)"
      ],
      "metadata": {
        "id": "tuO2CPruVoVB"
      },
      "execution_count": null,
      "outputs": []
    },
    {
      "cell_type": "markdown",
      "source": [
        "On peut générer des listes *en extension* en donnant tous les éléments de la liste comme ci-dessus ou *en compréhension* en définissant la composition de la liste.\n",
        "Par exemple la fonction `range()` génère une liste d'entier :"
      ],
      "metadata": {
        "id": "zZC1rA1HWOYs"
      }
    },
    {
      "cell_type": "code",
      "source": [
        "L=[u for u in range(9)]\n",
        "print(L)\n",
        "L=[u for u in range(2,10)]\n",
        "print(L)"
      ],
      "metadata": {
        "id": "JdkDhbSmXLpz"
      },
      "execution_count": null,
      "outputs": []
    },
    {
      "cell_type": "markdown",
      "source": [
        "On peut accéder à chaque élément d'une liste par son indice (attention, les indices commencent à 0) :"
      ],
      "metadata": {
        "id": "4VDHqcLTYNGW"
      }
    },
    {
      "cell_type": "code",
      "source": [
        "print(L[0],L[1],L[2],L[3])"
      ],
      "metadata": {
        "id": "wE2vjUBZYaeA"
      },
      "execution_count": null,
      "outputs": []
    },
    {
      "cell_type": "markdown",
      "source": [
        "##Exercices\n",
        "\n",
        "\n",
        "- [texte du lien](https://)Qu'affiche le programme suivant :\n",
        "\n",
        "\n",
        "````\n",
        "L=[2,26,78,11]\n",
        "L[0]=L[3]\n",
        "print[L]\n",
        "````"
      ],
      "metadata": {
        "id": "bVjxAGrhYe38"
      }
    },
    {
      "cell_type": "code",
      "source": [],
      "metadata": {
        "id": "Upk40h_sZqb3"
      },
      "execution_count": null,
      "outputs": []
    },
    {
      "cell_type": "markdown",
      "source": [
        "- Utiliser la fonction `range()` pour générer la liste des entiers de 0 à 3\n"
      ],
      "metadata": {
        "id": "yG81LzgKZq-t"
      }
    },
    {
      "cell_type": "code",
      "source": [],
      "metadata": {
        "id": "NZej_ODlaFAj"
      },
      "execution_count": null,
      "outputs": []
    },
    {
      "cell_type": "markdown",
      "source": [
        "- Utiliser la fonction `range()` pour générer la liste des entiers de 4 à 7"
      ],
      "metadata": {
        "id": "vXdUncJdaMhr"
      }
    },
    {
      "cell_type": "code",
      "source": [],
      "metadata": {
        "id": "ofnnxZg9alsR"
      },
      "execution_count": null,
      "outputs": []
    },
    {
      "cell_type": "markdown",
      "source": [
        "- Générer les listes suivantes par compréhension :\n",
        "1. `L1=[-4,-3,-2,-1,...,9,10]`\n",
        "1. `L2=[0,0.01,0.02,...,0.99,1]`\n",
        "1. `L3=[-5,-4.9,-4.8,...,4.9,5]`"
      ],
      "metadata": {
        "id": "ev74jOcQamlY"
      }
    },
    {
      "cell_type": "code",
      "source": [
        "L1=[k for k in range(-4,11)]\n",
        "print(L1)"
      ],
      "metadata": {
        "id": "-fQ4hQJyb0hc"
      },
      "execution_count": null,
      "outputs": []
    },
    {
      "cell_type": "markdown",
      "source": [
        "- Créer la liste des entiers obtenus en ajoutant 3 à chaque élément de la liste des entiers de 0 à 5 lorque l'élément est pair"
      ],
      "metadata": {
        "id": "iLnp_-leb9Yv"
      }
    },
    {
      "cell_type": "code",
      "source": [],
      "metadata": {
        "id": "kSYaTspjbxfv"
      },
      "execution_count": null,
      "outputs": []
    },
    {
      "cell_type": "markdown",
      "source": [
        "Soient $a$ et $n$ deux entiers naturels non nuls.Ecrire une fonction `listemult(a,n)` ayant pour paramètres $a$ et $n$ et renvoyant la liste des $n$ premiers multiples de $a$."
      ],
      "metadata": {
        "id": "K8Nvicr7csls"
      }
    },
    {
      "cell_type": "code",
      "source": [],
      "metadata": {
        "id": "9P-lLRnydbe2"
      },
      "execution_count": null,
      "outputs": []
    }
  ]
}