{
  "nbformat": 4,
  "nbformat_minor": 0,
  "metadata": {
    "colab": {
      "provenance": [],
      "authorship_tag": "ABX9TyNDwX+0b8pYt0v+SbT2onne",
      "include_colab_link": true
    },
    "kernelspec": {
      "name": "python3",
      "display_name": "Python 3"
    },
    "language_info": {
      "name": "python"
    }
  },
  "cells": [
    {
      "cell_type": "markdown",
      "metadata": {
        "id": "view-in-github",
        "colab_type": "text"
      },
      "source": [
        "<a href=\"https://colab.research.google.com/github/cybfr/notebooks/blob/main/flocon_de_Koch.ipynb\" target=\"_parent\"><img src=\"https://colab.research.google.com/assets/colab-badge.svg\" alt=\"Open In Colab\"/></a>"
      ]
    },
    {
      "cell_type": "code",
      "execution_count": null,
      "metadata": {
        "id": "JMV2fXxbb8kL"
      },
      "outputs": [],
      "source": [
        "import numpy as np\n",
        "import matplotlib.pyplot as plt\n",
        "\n",
        "\n",
        "def koch_snowflake(order, scale=10):\n",
        "    \"\"\"\n",
        "    Return two lists x, y of point coordinates of the Koch snowflake.\n",
        "\n",
        "    Parameters\n",
        "    ----------\n",
        "    order : int\n",
        "        The recursion depth.\n",
        "    scale : float\n",
        "        The extent of the snowflake (edge length of the base triangle).\n",
        "    \"\"\"\n",
        "    def _koch_snowflake_complex(order):\n",
        "        if order == 0:\n",
        "            # initial triangle\n",
        "            angles = np.array([0, 120, 240]) + 90\n",
        "            return scale / np.sqrt(3) * np.exp(np.deg2rad(angles) * 1j)\n",
        "        else:\n",
        "            ZR = 0.5 - 0.5j * np.sqrt(3) / 3\n",
        "\n",
        "            p1 = _koch_snowflake_complex(order - 1)  # start points\n",
        "            p2 = np.roll(p1, shift=-1)  # end points\n",
        "            dp = p2 - p1  # connection vectors\n",
        "\n",
        "            new_points = np.empty(len(p1) * 4, dtype=np.complex128)\n",
        "            new_points[::4] = p1\n",
        "            new_points[1::4] = p1 + dp / 3\n",
        "            new_points[2::4] = p1 + dp * ZR\n",
        "            new_points[3::4] = p1 + dp / 3 * 2\n",
        "            return new_points\n",
        "\n",
        "    points = _koch_snowflake_complex(order)\n",
        "    x, y = points.real, points.imag\n",
        "    return x, y\n",
        "\n",
        "x, y = koch_snowflake(order=1)\n",
        "print(x,y)\n",
        "\n",
        "plt.figure(figsize=(8, 8))\n",
        "plt.axis('equal')\n",
        "plt.fill(x, y)\n",
        "plt.show()\n"
      ]
    }
  ]
}